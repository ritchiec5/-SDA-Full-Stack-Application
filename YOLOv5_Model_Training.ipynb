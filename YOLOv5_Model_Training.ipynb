{
  "nbformat": 4,
  "nbformat_minor": 0,
  "metadata": {
    "colab": {
      "name": "YOLOv5 Model Training.ipynb",
      "provenance": []
    },
    "kernelspec": {
      "name": "python3",
      "display_name": "Python 3"
    },
    "language_info": {
      "name": "python"
    }
  },
  "cells": [
    {
      "cell_type": "markdown",
      "metadata": {
        "id": "BQzuqC2xMIUE"
      },
      "source": [
        "Setting up Training environment"
      ]
    },
    {
      "cell_type": "code",
      "metadata": {
        "id": "AA8xtCHJNVDb"
      },
      "source": [
        "!nvidia-smi"
      ],
      "execution_count": null,
      "outputs": []
    },
    {
      "cell_type": "code",
      "source": [
        "from google.colab import drive\n",
        "\n",
        "drive.mount('/content/gdrive')\n",
        "\n",
        "# Use code below as an alternative if google drive fails to mount.\n",
        "# drive._mount('/content/drive')"
      ],
      "metadata": {
        "id": "MKv16iuDLVIq"
      },
      "execution_count": null,
      "outputs": []
    },
    {
      "cell_type": "code",
      "source": [
        "!git clone https://github.com/ultralytics/yolov5  # clone repo\n",
        "%cd yolov5\n",
        "%pip install -qr requirements.txt  # install dependencies\n",
        "\n",
        "import torch\n",
        "from IPython.display import Image, clear_output  # to display images\n",
        "\n",
        "clear_output()\n",
        "print(f\"Setup complete. Using torch {torch.__version__} ({torch.cuda.get_device_properties(0).name if torch.cuda.is_available() else 'CPU'})\")"
      ],
      "metadata": {
        "id": "uZ_4U6KxLe5W"
      },
      "execution_count": null,
      "outputs": []
    },
    {
      "cell_type": "markdown",
      "metadata": {
        "id": "pls4cAG_L98l"
      },
      "source": [
        "Optional Technologies"
      ]
    },
    {
      "cell_type": "code",
      "source": [
        "# Tensorboard  (optional)\n",
        "%load_ext tensorboard\n",
        "%tensorboard --logdir runs/train"
      ],
      "metadata": {
        "id": "NAIcgeryLg_B"
      },
      "execution_count": null,
      "outputs": []
    },
    {
      "cell_type": "code",
      "source": [
        "# Weights & Biases - Model Accuracy & Training Tracker  (optional)\n",
        "%pip install -q wandb\n",
        "import wandb\n",
        "wandb.login()"
      ],
      "metadata": {
        "id": "15tF4_7cLjJy"
      },
      "execution_count": null,
      "outputs": []
    },
    {
      "cell_type": "markdown",
      "metadata": {
        "id": "0s2oPxPn3rA5"
      },
      "source": [
        "Training Model"
      ]
    },
    {
      "cell_type": "code",
      "metadata": {
        "id": "1NcFxRcFdJ_O"
      },
      "source": [
        "# Train YOLOv5s on COCO128 for 3 epochs\n",
        "!python train.py --img 640 --batch 4 --epochs 3 --data coco128.yaml --weights yolov5s.pt --cache"
      ],
      "execution_count": null,
      "outputs": []
    },
    {
      "cell_type": "code",
      "metadata": {
        "id": "jRJqgddsKTxa"
      },
      "source": [
        "# Train custom dataset\n",
        "!python train.py --img 640 --batch 4 --epochs 100 --data /content/gdrive/MyDrive/Datasets/human_car.yaml --weights yolov5s.pt --cache"
      ],
      "execution_count": null,
      "outputs": []
    },
    {
      "cell_type": "code",
      "metadata": {
        "id": "Hv88jD6P9Vsd"
      },
      "source": [
        "# Train custom dataset & Ignore semaphore warning\n",
        "!python -W ignore train.py --img 640 --batch 8 --epochs 100 --data /content/gdrive/MyDrive/Datasets/human_car.yaml --weights yolov5m.pt --cache"
      ],
      "execution_count": null,
      "outputs": []
    }
  ]
}